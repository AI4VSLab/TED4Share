{
 "cells": [
  {
   "cell_type": "code",
   "execution_count": null,
   "metadata": {},
   "outputs": [],
   "source": [
    "import pandas as pd\n",
    "import glob \n",
    "\n",
    "ted_paths = glob.glob(f'/home/CenteredData/TED Federated Learning Project/Photos/TED*')\n",
    "control_paths = glob.glob(f'/home/CenteredData/TED Federated Learning Project/Photos/CONT*')\n",
    "\n",
    "labels = [1]*len(ted_paths) + [0]*len(control_paths)\n",
    "all_paths = ted_paths + control_paths\n",
    "\n",
    "# Create a DataFrame\n",
    "df_paths = pd.DataFrame({'directory': all_paths, 'label': labels})\n",
    "\n",
    "# Shuffle the DataFrame\n",
    "df_paths = df_paths.sample(frac=1).reset_index(drop=True)\n",
    "\n",
    "# Split into train and test sets\n",
    "train_df = df_paths.sample(frac=0.8, random_state=42)\n",
    "test_df = df_paths.drop(train_df.index).reset_index(drop=True)\n",
    "train_df = train_df.reset_index(drop=True)\n",
    "\n",
    "print(f\"Train samples: {len(train_df)}\")\n",
    "print(f\"Test samples: {len(test_df)}\")"
   ]
  },
  {
   "cell_type": "code",
   "execution_count": null,
   "metadata": {},
   "outputs": [],
   "source": [
    "train_df.to_csv('/data/michael/ted_rashmi/TED/data/TED/12_mar_2025/train.csv', index=False)\n",
    "test_df.to_csv('/data/michael/ted_rashmi/TED/data/TED/12_mar_2025/test.csv', index=False)"
   ]
  },
  {
   "cell_type": "code",
   "execution_count": null,
   "metadata": {},
   "outputs": [],
   "source": []
  }
 ],
 "metadata": {
  "kernelspec": {
   "display_name": "Python 3",
   "language": "python",
   "name": "python3"
  },
  "language_info": {
   "codemirror_mode": {
    "name": "ipython",
    "version": 3
   },
   "file_extension": ".py",
   "mimetype": "text/x-python",
   "name": "python",
   "nbconvert_exporter": "python",
   "pygments_lexer": "ipython3",
   "version": "3.8.10"
  }
 },
 "nbformat": 4,
 "nbformat_minor": 2
}
